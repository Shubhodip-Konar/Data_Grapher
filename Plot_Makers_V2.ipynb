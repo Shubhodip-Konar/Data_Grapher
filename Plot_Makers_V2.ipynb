{
 "cells": [
  {
   "cell_type": "code",
   "execution_count": 2,
   "metadata": {},
   "outputs": [],
   "source": [
    "import pandas as pd\n",
    "import numpy as np\n",
    "import seaborn as sns\n",
    "import os\n",
    "import matplotlib\n",
    "import matplotlib.pyplot as plt\n",
    "from scipy import stats\n",
    "import random\n",
    "from pywaffle import Waffle\n",
    "from matplotlib.offsetbox import AnchoredText\n",
    "from tkinter import *\n",
    "from tkinter.filedialog import askopenfilename"
   ]
  },
  {
   "cell_type": "code",
   "execution_count": 3,
   "metadata": {},
   "outputs": [
    {
     "data": {
      "text/plain": [
       "'root=Tk()\\nroot.withdraw()\\nreadfile=askopenfilename(title=\\'Choose Input .CSV File\\',initialdir=\\'.\\\\\\')\\nprint(\"[+] Checking: \", readfile)\\nif os.path.isfile(readfile):\\n    print(\"[+] {} exists - Checking Complete\".format(readfile))\\nelse:\\n    print(\"[-] {} does not exists. Exiting program\".format(readfile))\\n    quit()'"
      ]
     },
     "execution_count": 3,
     "metadata": {},
     "output_type": "execute_result"
    }
   ],
   "source": [
    "'''root=Tk()\n",
    "root.withdraw()\n",
    "readfile=askopenfilename(title='Choose Input .CSV File',initialdir='.\\\\')\n",
    "print(\"[+] Checking: \", readfile)\n",
    "if os.path.isfile(readfile):\n",
    "    print(\"[+] {} exists - Checking Complete\".format(readfile))\n",
    "else:\n",
    "    print(\"[-] {} does not exists. Exiting program\".format(readfile))\n",
    "    quit()'''"
   ]
  },
  {
   "cell_type": "code",
   "execution_count": 4,
   "metadata": {},
   "outputs": [],
   "source": [
    "# df=pd.read_csv(readfile,'r')"
   ]
  },
  {
   "cell_type": "code",
   "execution_count": 5,
   "metadata": {},
   "outputs": [],
   "source": [
    "df=pd.read_csv('health.csv')"
   ]
  },
  {
   "cell_type": "code",
   "execution_count": 6,
   "metadata": {},
   "outputs": [],
   "source": [
    "def on_selection(value): # function for dropdown destroy\n",
    "    global choice\n",
    "    choice = value\n",
    "    root.destroy()"
   ]
  },
  {
   "cell_type": "code",
   "execution_count": 7,
   "metadata": {},
   "outputs": [],
   "source": [
    "x = list(df.select_dtypes(include=['float64','int64']).columns) # list for numeric columns\n",
    "color_name = list(df.select_dtypes(include=['object']).columns) # list for string columns"
   ]
  },
  {
   "cell_type": "code",
   "execution_count": 8,
   "metadata": {},
   "outputs": [],
   "source": [
    "root = Tk() # Dropdown for user interface for x variable\n",
    "variable_x= StringVar(root)\n",
    "variable_x.set(x[0])\n",
    "popupMenu = OptionMenu(root, variable_x, *x, command=on_selection)\n",
    "Label(root, text=\"Choose X Variable\").grid(row=0, column=0)\n",
    "popupMenu.grid(row=1, column =0)\n",
    "root.mainloop()"
   ]
  },
  {
   "cell_type": "code",
   "execution_count": 9,
   "metadata": {},
   "outputs": [],
   "source": [
    "x_axis=choice"
   ]
  },
  {
   "cell_type": "code",
   "execution_count": 10,
   "metadata": {},
   "outputs": [],
   "source": [
    "root = Tk() # Dropdown for user interface for y variable\n",
    "variable_y= StringVar(root)\n",
    "variable_y.set(x[0])\n",
    "popupMenu = OptionMenu(root, variable_y, *x, command=on_selection)\n",
    "Label(root, text=\"Choose Y Variable\").grid(row=0, column=0)\n",
    "popupMenu.grid(row=1, column =0)\n",
    "root.mainloop()"
   ]
  },
  {
   "cell_type": "code",
   "execution_count": 11,
   "metadata": {},
   "outputs": [],
   "source": [
    "y_axis=choice"
   ]
  },
  {
   "cell_type": "code",
   "execution_count": 12,
   "metadata": {},
   "outputs": [],
   "source": [
    "root = Tk() # Dropdown for user interface for colour\n",
    "variable_color= StringVar(root)\n",
    "variable_color.set(color_name[0])\n",
    "popupMenu = OptionMenu(root, variable_color, *color_name, command=on_selection)\n",
    "Label(root, text=\"Choose Variable for Colour\").grid(row=0, column=0)\n",
    "popupMenu.grid(row=1, column =0)\n",
    "root.mainloop()"
   ]
  },
  {
   "cell_type": "code",
   "execution_count": 13,
   "metadata": {},
   "outputs": [],
   "source": [
    "colour=choice"
   ]
  },
  {
   "cell_type": "code",
   "execution_count": 14,
   "metadata": {},
   "outputs": [],
   "source": [
    "graph_type=['Single Parameter','Two Parameters','Complete Dataset'] # parameter number selection"
   ]
  },
  {
   "cell_type": "code",
   "execution_count": 15,
   "metadata": {},
   "outputs": [],
   "source": [
    "root = Tk() # Dropdown for graph type user interface\n",
    "variable_graph= StringVar(root)\n",
    "variable_graph.set(graph_type[0])\n",
    "popupMenu = OptionMenu(root, variable_graph, *graph_type, command=on_selection)\n",
    "Label(root, text=\"Choose Graph Type\").grid(row=0, column=0)\n",
    "popupMenu.grid(row=1, column =0)\n",
    "root.mainloop()"
   ]
  },
  {
   "cell_type": "code",
   "execution_count": 16,
   "metadata": {},
   "outputs": [],
   "source": [
    "graph=choice"
   ]
  },
  {
   "cell_type": "code",
   "execution_count": 17,
   "metadata": {},
   "outputs": [],
   "source": [
    "single_graph=['Bar Diagram','Histogram with Boxplot','Box and Whiskers','Violine Plot','Waffle Plot'] # plot type"
   ]
  },
  {
   "cell_type": "code",
   "execution_count": 18,
   "metadata": {},
   "outputs": [],
   "source": [
    "two_par_graph=['Scatterplot','Bubble Plot','Scatterplot with best fit line','Scatterplot with best fit line classwise','Jittering with stripplot','Marginal Histogram','Marginal Boxplot'] # plot type"
   ]
  },
  {
   "cell_type": "code",
   "execution_count": 19,
   "metadata": {},
   "outputs": [],
   "source": [
    "data_graph=['Correlogram','Pairwise plot','Box and Whiskers','Violine Plot','Pie Diagram'] # plot type"
   ]
  },
  {
   "cell_type": "code",
   "execution_count": 20,
   "metadata": {},
   "outputs": [],
   "source": [
    "if graph=='Single Parameter': # User dropdown for graph parameter\n",
    "    root = Tk()\n",
    "    variable_type= StringVar(root)\n",
    "    variable_type.set(single_graph[0])\n",
    "    popupMenu = OptionMenu(root, variable_type, *single_graph, command=on_selection)\n",
    "    Label(root, text=\"Choose Graph\").grid(row=0, column=0)\n",
    "    popupMenu.grid(row=1, column =0)\n",
    "    root.mainloop()\n",
    "elif graph=='Two Parameters':\n",
    "    root = Tk()\n",
    "    variable_type= StringVar(root)\n",
    "    variable_type.set(two_par_graph[0])\n",
    "    popupMenu = OptionMenu(root, variable_type, *two_par_graph, command=on_selection)\n",
    "    Label(root, text=\"Choose Graph\").grid(row=0, column=0)\n",
    "    popupMenu.grid(row=1, column =0)\n",
    "    root.mainloop()\n",
    "elif graph=='Complete Dataset':\n",
    "    root = Tk()\n",
    "    variable_type= StringVar(root)\n",
    "    variable_type.set(data_graph[0])\n",
    "    popupMenu = OptionMenu(root, variable_type, *data_graph, command=on_selection)\n",
    "    Label(root, text=\"Choose Graph\").grid(row=0, column=0)\n",
    "    popupMenu.grid(row=1, column =0)\n",
    "    root.mainloop()"
   ]
  },
  {
   "cell_type": "code",
   "execution_count": 21,
   "metadata": {},
   "outputs": [],
   "source": [
    "graph_type=choice"
   ]
  },
  {
   "cell_type": "code",
   "execution_count": 23,
   "metadata": {},
   "outputs": [],
   "source": [
    "#scatterplot\n",
    "def scatterplot():\n",
    "    plt.figure(figsize=(12, 8), dpi= 80, edgecolor='black')\n",
    "    ax1=sns.scatterplot(data=df, x=x_axis, y=y_axis,hue=colour)\n",
    "    ax1.grid(True)\n",
    "    #plt.legend(loc='upper right')\n",
    "    plt.title('Scatterplot \\n'+ x_axis+' vs '+y_axis)\n",
    "    plt.show()"
   ]
  },
  {
   "cell_type": "code",
   "execution_count": 24,
   "metadata": {},
   "outputs": [],
   "source": [
    "#Bubble plot\n",
    "def bubbleplot():\n",
    "    plt.figure(figsize=(12, 8), dpi= 80, edgecolor='black')\n",
    "    ax2=sns.scatterplot(data=df, x=x_axis, y=y_axis,hue=bbl_size,size=bbl_size, sizes=(40, 200))\n",
    "    ax2.grid(True)\n",
    "    plt.legend(loc='upper left')\n",
    "    plt.title('Bubbleplot \\n'+ x_axis+' vs '+y_axis)\n",
    "    plt.show()"
   ]
  },
  {
   "cell_type": "code",
   "execution_count": 25,
   "metadata": {},
   "outputs": [],
   "source": [
    "#scatterplot with best fit line\n",
    "def bestfit_scatter():\n",
    "    plt.figure(figsize=(12, 8), dpi= 80, edgecolor='black')\n",
    "    slope, intercept, r_value, p_value, std_err = stats.linregress(df[x_axis],df[y_axis])\n",
    "    ax3=sns.regplot(data=df, x=x_axis, y=y_axis,color='b',line_kws={'label':\"y={0:.1f}x+{1:.1f}\".format(slope,intercept)})\n",
    "    ax3.grid(True)\n",
    "    ax3.legend()\n",
    "    plt.title('Scatterplot with best fit line \\n'+ x_axis+' vs '+y_axis)\n",
    "    plt.show()"
   ]
  },
  {
   "cell_type": "code",
   "execution_count": 26,
   "metadata": {},
   "outputs": [],
   "source": [
    "#Scatterplot with best fit line classwise\n",
    "def classwisescatter():\n",
    "    sns.lmplot(data=df, x=x_axis, y=y_axis, hue=colour, col=colour, legend=True, legend_out=True,col_wrap=4, height=3)\n",
    "    plt.show()"
   ]
  },
  {
   "cell_type": "code",
   "execution_count": 27,
   "metadata": {},
   "outputs": [],
   "source": [
    "#Jittering with stripplot\n",
    "def stripplot():\n",
    "    fig, ax = plt.subplots(figsize=(12,8), dpi= 80) \n",
    "    ax3=sns.stripplot(data=df, x=x_axis, y=y_axis, jitter=0.25, size=8, ax=ax, linewidth=.5)\n",
    "    ax3.grid(True)\n",
    "    plt.title('Jitterplot \\n'+ x_axis+' vs '+y_axis)\n",
    "    plt.show()"
   ]
  },
  {
   "cell_type": "code",
   "execution_count": 28,
   "metadata": {},
   "outputs": [],
   "source": [
    "#Marginal Histogram\n",
    "def marginhist():\n",
    "    fig, ax = plt.subplots(figsize=(12,8), dpi= 80)\n",
    "    grid = plt.GridSpec(4, 4, hspace=0.5, wspace=0.2)\n",
    "    plt.axis('off')\n",
    "    ax_main = fig.add_subplot(grid[:-1, :-1])\n",
    "    ax_right = fig.add_subplot(grid[:-1, -1], xticklabels=[], yticklabels=[])\n",
    "    ax_bottom = fig.add_subplot(grid[-1, 0:-1], xticklabels=[], yticklabels=[])\n",
    "    ax_main.scatter(x_axis, y_axis, alpha=.9, data=df, color='b')\n",
    "    ax_bottom.hist(df[x_axis], 40, histtype='stepfilled', orientation='vertical', color='b')\n",
    "    ax_bottom.invert_yaxis()\n",
    "    ax_right.hist(df[y_axis], 40, histtype='stepfilled', orientation='horizontal', color='b')\n",
    "    ax_main.set(title='Scatterplot with Histograms \\n '+ x_axis+' vs '+y_axis, xlabel=x_axis, ylabel=y_axis)\n",
    "    plt.show()"
   ]
  },
  {
   "cell_type": "code",
   "execution_count": 29,
   "metadata": {},
   "outputs": [],
   "source": [
    "#Marginal Boxplot\n",
    "def marginbox():\n",
    "    fig, ax = plt.subplots(figsize=(12,8), dpi= 80)\n",
    "    grid = plt.GridSpec(4, 4, hspace=0.5, wspace=0.2)\n",
    "    plt.axis('off')\n",
    "    ax_main = fig.add_subplot(grid[:-1, :-1])\n",
    "    ax_right = fig.add_subplot(grid[:-1, -1], xticklabels=[], yticklabels=[])\n",
    "    matplotlib.pyplot.boxplot(df[y_axis], vert=True)\n",
    "    ax_right.set_xlabel(y_axis) # set label at the bottom of the boxplot\n",
    "    ax_right.axes.xaxis.set_ticks([]) # remove x ticks\n",
    "    ax_bottom = fig.add_subplot(grid[-1, 0:-1], xticklabels=[], yticklabels=[])\n",
    "    matplotlib.pyplot.boxplot(df[x_axis], vert=False) \n",
    "    ax_bottom.set_ylabel(x_axis) # set label at the side of the boxplot\n",
    "    plt.tick_params(bottom=False,top=True) # move ticks to top\n",
    "    ax_bottom.axes.yaxis.set_ticks([])# remove y ticks\n",
    "    ax_main.scatter(x_axis, y_axis, alpha=.9, data=df, color='g')\n",
    "    ax_main.set(title='Scatterplot with Boxplots \\n '+ x_axis+' vs '+y_axis, xlabel=x_axis, ylabel=y_axis)\n",
    "    plt.show()"
   ]
  },
  {
   "cell_type": "code",
   "execution_count": 30,
   "metadata": {},
   "outputs": [],
   "source": [
    "#Correlogram\n",
    "def correlogram():\n",
    "    plt.figure(figsize=(14,12), dpi= 80)\n",
    "    sns.heatmap(df.corr(), xticklabels=df.corr().columns, yticklabels=df.corr().columns, cmap='RdYlGn', center=0, annot=True)\n",
    "    plt.title('Correlogram')\n",
    "    plt.xticks()\n",
    "    plt.yticks()\n",
    "    plt.show()"
   ]
  },
  {
   "cell_type": "code",
   "execution_count": 31,
   "metadata": {},
   "outputs": [],
   "source": [
    "#Pairwise plot\n",
    "def pairwise():\n",
    "    plt.figure(figsize=(12,8), dpi= 80)\n",
    "    sns.pairplot(df, kind=\"reg\",corner=True)\n",
    "    plt.show()"
   ]
  },
  {
   "cell_type": "code",
   "execution_count": 32,
   "metadata": {},
   "outputs": [],
   "source": [
    "#Box and Whiskers\n",
    "def boxnwhiskers(data=None):\n",
    "    plt.figure(figsize=(13,10), dpi= 80)\n",
    "    sns.boxplot(data=df[data], notch=False) if data else sns.boxplot(data=df, notch=False)\n",
    "    plt.title('Box & Whiskers')\n",
    "    plt.show()"
   ]
  },
  {
   "cell_type": "code",
   "execution_count": 33,
   "metadata": {},
   "outputs": [],
   "source": [
    "# Violine Plot\n",
    "def violine(data=None):\n",
    "    plt.figure(figsize=(13,10), dpi= 80)\n",
    "    sns.violinplot(data=df[data],scale='width',inner='quartile')if data else sns.violinplot(data=df,scale='width',inner='quartile')\n",
    "    plt.title('Violin Plot')\n",
    "    plt.show()"
   ]
  },
  {
   "cell_type": "code",
   "execution_count": 34,
   "metadata": {},
   "outputs": [],
   "source": [
    "# Bar Diagram\n",
    "def bar(axis):\n",
    "    plt.figure(figsize=(12,8), dpi= 80)\n",
    "    plt.bar(df[bar_name], df[axis], color ='maroon')\n",
    "    plt.xticks(rotation=45)\n",
    "    plt.title('Bar Chart \\n'+axis)\n",
    "    plt.show()"
   ]
  },
  {
   "cell_type": "code",
   "execution_count": 35,
   "metadata": {},
   "outputs": [],
   "source": [
    "# Pie Diagram\n",
    "def pie():\n",
    "    df_mod = df.groupby(pie_gr).size()\n",
    "    df_mod.plot(kind='pie', subplots=True, figsize=(12, 12))\n",
    "    plt.ylabel(\"\")\n",
    "    plt.show()"
   ]
  },
  {
   "cell_type": "code",
   "execution_count": 36,
   "metadata": {},
   "outputs": [],
   "source": [
    "# Waffle Chart\n",
    "def waffle():\n",
    "    df_waffle = df.groupby(waffle_gr).size().reset_index(name=waffle_no_gr)\n",
    "    n_categories = df_waffle.shape[0]\n",
    "    colors = [plt.cm.inferno_r(i/float(n_categories)) for i in range(n_categories)]\n",
    "    fig = plt.figure(FigureClass=Waffle,plots={'111': {'values': df_waffle[waffle_no_gr],'labels': [\"{0} ({1})\".format(n[0], n[1]) for n in df_waffle[[waffle_gr, waffle_no_gr]].itertuples()],'legend': {'loc': 'upper left', 'bbox_to_anchor': (1.05, 1), 'fontsize': 12},'title': {'label': waffle_no_gr+' by '+waffle_gr, 'loc': 'center', 'fontsize':18}},},rows=7,colors=colors,figsize=(12, 8))\n",
    "    plt.show()"
   ]
  },
  {
   "cell_type": "code",
   "execution_count": 37,
   "metadata": {
    "scrolled": true
   },
   "outputs": [],
   "source": [
    "# Histogram with Boxplot\n",
    "def histbox(axis):\n",
    "    sns.set(font_scale=1)\n",
    "    f2, (ax_box2, ax_hist2) = plt.subplots(2, sharex=True, gridspec_kw={\"height_ratios\": (.15, .85)}, figsize=(10,6))\n",
    "    sns.boxplot(df[axis], ax=ax_box2)\n",
    "    sns.distplot(df[axis], ax=ax_hist2, bins=10)\n",
    "    anchored_text = AnchoredText(str(df[axis].describe()), loc=2)\n",
    "    ax_hist2.add_artist(anchored_text)\n",
    "    ax_hist2.set(xlabel='Histogram')\n",
    "    ax_box2.set(title='Box and Whiskers')\n",
    "    plt.show()"
   ]
  },
  {
   "cell_type": "code",
   "execution_count": 38,
   "metadata": {},
   "outputs": [
    {
     "data": {
      "image/png": "[encoded data removed]",
      "text/plain": [
       "<Figure size 1040x800 with 1 Axes>"
      ]
     },
     "metadata": {
      "needs_background": "light"
     },
     "output_type": "display_data"
    },
    {
     "data": {
      "image/png": "[encoded data removed]",
      "text/plain": [
       "<Figure size 1040x800 with 1 Axes>"
      ]
     },
     "metadata": {
      "needs_background": "light"
     },
     "output_type": "display_data"
    }
   ],
   "source": [
    "# Plotting graph\n",
    "if graph_type=='Scatterplot':\n",
    "    scatterplot()\n",
    "elif graph_type=='Scatterplot with best fit line':\n",
    "    bestfit_scatter()\n",
    "elif graph_type=='Scatterplot with best fit line classwise':\n",
    "    classwisescatter()\n",
    "elif graph_type=='Jittering with stripplot':\n",
    "    stripplot()\n",
    "elif graph_type=='Marginal Histogram':\n",
    "    marginhist()\n",
    "elif graph_type=='Marginal Boxplot':\n",
    "    marginbox()\n",
    "elif graph_type=='Bubble Plot':\n",
    "    bubble = list(df.select_dtypes(include=['float64','int64']).columns)\n",
    "    root = Tk()\n",
    "    bubble_size= StringVar(root)\n",
    "    bubble_size.set(bubble[0])\n",
    "    popupMenu = OptionMenu(root, bubble_size, *bubble, command=on_selection)\n",
    "    Label(root, text=\"Choose Bubble Size\").grid(row=0, column=0)\n",
    "    popupMenu.grid(row=1, column =0)\n",
    "    root.mainloop()\n",
    "    bbl_size=choice\n",
    "    bubbleplot()\n",
    "elif graph_type=='Correlogram':\n",
    "    correlogram()\n",
    "elif graph_type=='Pairwise plot':\n",
    "    pairwise()\n",
    "elif graph_type=='Box and Whiskers':\n",
    "    if graph=='Complete Dataset':\n",
    "        boxnwhiskers()\n",
    "    else:\n",
    "        boxnwhiskers(x_axis)\n",
    "        boxnwhiskers(y_axis)  \n",
    "elif graph_type=='Violine Plot':\n",
    "    if graph=='Complete Dataset':\n",
    "        violine()\n",
    "    else:\n",
    "        violine(x_axis)\n",
    "        violine(y_axis) \n",
    "elif graph_type=='Pie Diagram':\n",
    "    pie_group = list(df.select_dtypes(include=['object']).columns)\n",
    "    root = Tk()\n",
    "    drdw_pie_gr = StringVar(root)\n",
    "    drdw_pie_gr.set(pie_group[0])\n",
    "    popupMenu = OptionMenu(root, drdw_pie_gr, *pie_group, command=on_selection)\n",
    "    Label(root, text=\"Choose Pie Group\").grid(row=0, column=0)\n",
    "    popupMenu.grid(row=1, column =0)\n",
    "    root.mainloop()\n",
    "    pie_gr=choice\n",
    "    pie()\n",
    "elif graph_type=='Histogram with Boxplot':\n",
    "    histbox(x_axis)\n",
    "    histbox(y_axis)\n",
    "elif graph_type=='Bar Diagram':\n",
    "    bar_x_axis = list(df.select_dtypes(include=['object']).columns)\n",
    "    root = Tk()\n",
    "    drdw_bar_name = StringVar(root)\n",
    "    drdw_bar_name.set(bar_x_axis[0])\n",
    "    popupMenu = OptionMenu(root, drdw_bar_name, *bar_x_axis, command=on_selection)\n",
    "    Label(root, text=\"Choose Bar Name\").grid(row=0, column=0)\n",
    "    popupMenu.grid(row=1, column =0)\n",
    "    root.mainloop()\n",
    "    bar_name=choice\n",
    "    bar(x_axis)\n",
    "    bar(y_axis)\n",
    "elif graph_type=='Waffle Plot':\n",
    "    waffle_group = list(df.select_dtypes(include=['object']).columns)\n",
    "    root = Tk()\n",
    "    drdw_waffle_gr = StringVar(root)\n",
    "    drdw_waffle_gr.set(waffle_group[0])\n",
    "    popupMenu = OptionMenu(root, drdw_waffle_gr, *waffle_group, command=on_selection)\n",
    "    Label(root, text=\"Waffle group\").grid(row=0, column=0)\n",
    "    popupMenu.grid(row=1, column =0)\n",
    "    root.mainloop()\n",
    "    waffle_gr=choice\n",
    "    waffle_no_group = list(df.select_dtypes(include=['float64','int64']).columns)\n",
    "    root = Tk()\n",
    "    drdw_waffle_no_gr = StringVar(root)\n",
    "    drdw_waffle_no_gr.set(waffle_group[0])\n",
    "    popupMenu = OptionMenu(root, drdw_waffle_no_gr, *waffle_no_group, command=on_selection)\n",
    "    Label(root, text=\"Data\").grid(row=0, column=0)\n",
    "    popupMenu.grid(row=1, column =0)\n",
    "    root.mainloop()\n",
    "    waffle_no_gr=choice\n",
    "    waffle()"
   ]
  },
  {
   "cell_type": "code",
   "execution_count": null,
   "metadata": {},
   "outputs": [],
   "source": []
  }
 ],
 "metadata": {
  "kernelspec": {
   "display_name": "Python 3",
   "language": "python",
   "name": "python3"
  },
  "language_info": {
   "codemirror_mode": {
    "name": "ipython",
    "version": 3
   },
   "file_extension": ".py",
   "mimetype": "text/x-python",
   "name": "python",
   "nbconvert_exporter": "python",
   "pygments_lexer": "ipython3",
   "version": "3.8.5"
  }
 },
 "nbformat": 4,
 "nbformat_minor": 4
}
